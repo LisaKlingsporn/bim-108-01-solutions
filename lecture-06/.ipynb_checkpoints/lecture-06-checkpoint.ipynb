{
 "cells": [
  {
   "cell_type": "markdown",
   "metadata": {
    "deletable": false
   },
   "source": [
    "# Einführung in RDF"
   ]
  },
  {
   "cell_type": "markdown",
   "metadata": {
    "deletable": false
   },
   "source": [
    "In der Vorlesung haben wir das Resource Description Framework (RDF) vorgestellt. Als ein wichtiger Baustein des Semantischen Web, unterstützt RDF die Beschreibung strukturierter Information, die Daten und deren Bedeutung. RDF Daten spannen Graphen, Knoten die mittels direkten Kanten verbunden sind. Diese Datenstruktur ist flexibel und hat wichtige Vorteile gegenüber Bäume. In dieser Übung werden wir RDF in der Praxis etwas näher kennenlernen. Der folgende Codeblock müssen Sie ausführen wenn Sie die entsprechenden Module (`rdflib`, `pydot`, `shortid`) nicht bereits installiert haben. Das können Sie testen indem Sie den zweiten Codeblock ausführen. Erhalten Sie dabei Fehlermeldungen, führen Sie den ersten und danach der zweite Codeblock aus. Warten Sie bis der erste Codeblock ausgeführt wurde bevor Sie den zweiten ausführen. Auf Azure Notebooks kann das 1-2 Minuten dauern. Lesen Sie die Ausgabe und stellen Sie sicher, dass die drei Module erfolgreich installiert wurden."
   ]
  },
  {
   "cell_type": "code",
   "execution_count": 1,
   "metadata": {},
   "outputs": [
    {
     "name": "stdout",
     "output_type": "stream",
     "text": [
      "Requirement already satisfied: pydot in /anaconda3/lib/python3.6/site-packages (1.2.4)\n",
      "Requirement already satisfied: pyparsing>=2.1.4 in /anaconda3/lib/python3.6/site-packages (from pydot) (2.2.0)\n",
      "Requirement already satisfied: rdflib in /anaconda3/lib/python3.6/site-packages (4.2.2)\n",
      "Requirement already satisfied: isodate in /anaconda3/lib/python3.6/site-packages (from rdflib) (0.6.0)\n",
      "Requirement already satisfied: pyparsing in /anaconda3/lib/python3.6/site-packages (from rdflib) (2.2.0)\n",
      "Requirement already satisfied: six in /anaconda3/lib/python3.6/site-packages (from isodate->rdflib) (1.11.0)\n",
      "Requirement already satisfied: shortid in /anaconda3/lib/python3.6/site-packages (0.1.2)\n"
     ]
    }
   ],
   "source": [
    "!pip install pydot\n",
    "!pip install rdflib\n",
    "!pip install shortid"
   ]
  },
  {
   "cell_type": "code",
   "execution_count": 1,
   "metadata": {
    "deletable": false
   },
   "outputs": [],
   "source": [
    "import io\n",
    "import pydot\n",
    "from rdflib import Graph, URIRef, Namespace, Literal\n",
    "from rdflib.namespace import RDF, XSD\n",
    "from IPython.display import display, Image\n",
    "from rdflib.tools.rdf2dot import rdf2dot\n",
    "from shortid import ShortId\n",
    "\n",
    "sid = ShortId()"
   ]
  },
  {
   "cell_type": "markdown",
   "metadata": {
    "deletable": false
   },
   "source": [
    "Der *Unified Resource Identifier* (URI) ist ein zentrales Konzept in RDF. Der Aufbau einer URI haben wir in der Vorlesung erläutert. In praxis wird meist der `http` *scheme* verwendet. Die *authority* ist meist die eigene Domäne über die man frei verfügen kann (z.B. persönliche Domäne, die der eigenen Firma, etc.). Hier benutzen wir `example.org` und definieren `http://example.org#` als *namespace* für die Dinge die wir beschreiben, insb. unsere Pink Floyd Alben. \n",
    "\n",
    "Ein weiteres zentrales Konzept in RDF is das *statement*, die elementare Informationseinheit bestehend aus zwei über eine gerichtete Kante verbundene Knoten.\n",
    "\n",
    "Zuerst definieren wir unser *namespace* und Hilfsfunktionen die das Erstellen von URIs und *statements* etwas erleichern. Führen Sie den folgenden Codeblock einfach aus."
   ]
  },
  {
   "cell_type": "code",
   "execution_count": 2,
   "metadata": {
    "deletable": false
   },
   "outputs": [],
   "source": [
    "ex = Namespace('http://example.org#')\n",
    "\n",
    "def uri(fragment=None):\n",
    "    if fragment == None:\n",
    "        fragment = sid.generate()\n",
    "    return URIRef('{}{}'.format(ex, fragment))\n",
    "\n",
    "def statement(i, j, k):\n",
    "    return (i, j, k)\n",
    "\n",
    "def visualize(g):\n",
    "    stream = io.StringIO()\n",
    "    rdf2dot(g, stream)\n",
    "    (dg,) = pydot.graph_from_dot_data(stream.getvalue())\n",
    "    display(Image(dg.create_png()))\n",
    "    \n",
    "def prettyprint(g):\n",
    "    print(g.serialize(format='nt').decode('utf-8'))"
   ]
  },
  {
   "cell_type": "markdown",
   "metadata": {
    "deletable": false
   },
   "source": [
    "Nun erstellen wir ein *statement*. Interpretieren Sie die `print()` Ausgabe mit Ihrem Nachbarn. Führen Sie den Codeblock mehrmal aus und schauen Sie wie sich die URI des linken Knotens verändert."
   ]
  },
  {
   "cell_type": "code",
   "execution_count": 3,
   "metadata": {
    "deletable": false
   },
   "outputs": [
    {
     "name": "stdout",
     "output_type": "stream",
     "text": [
      "(rdflib.term.URIRef('http://example.org#RgjEHSEZ'), rdflib.term.URIRef('http://www.w3.org/1999/02/22-rdf-syntax-ns#type'), rdflib.term.URIRef('http://example.org#Album'))\n"
     ]
    }
   ],
   "source": [
    "print(statement(uri(), RDF.type, uri('Album')))\n",
    "\n",
    "# Erklären Sie die Ausgabe: es verändert sich jedes Mal das fragment der URI"
   ]
  },
  {
   "cell_type": "markdown",
   "metadata": {
    "deletable": false
   },
   "source": [
    "Als nächstes erstellen wir einen Graphen mit dem gleichen *statement* und visualisieren den Graph. \n",
    "\n",
    "Führen Sie den Programmcode mehrmals aus. Was ändert sich und warum?"
   ]
  },
  {
   "cell_type": "code",
   "execution_count": 4,
   "metadata": {
    "deletable": false
   },
   "outputs": [
    {
     "ename": "FileNotFoundError",
     "evalue": "[Errno 2] \"dot\" not found in path.",
     "output_type": "error",
     "traceback": [
      "\u001b[0;31m---------------------------------------------------------------------------\u001b[0m",
      "\u001b[0;31mFileNotFoundError\u001b[0m                         Traceback (most recent call last)",
      "\u001b[0;32m/anaconda3/lib/python3.6/site-packages/pydot.py\u001b[0m in \u001b[0;36mcreate\u001b[0;34m(self, prog, format, encoding)\u001b[0m\n\u001b[1;32m   1860\u001b[0m                 \u001b[0mshell\u001b[0m\u001b[0;34m=\u001b[0m\u001b[0;32mFalse\u001b[0m\u001b[0;34m,\u001b[0m\u001b[0;34m\u001b[0m\u001b[0m\n\u001b[0;32m-> 1861\u001b[0;31m                 stderr=subprocess.PIPE, stdout=subprocess.PIPE)\n\u001b[0m\u001b[1;32m   1862\u001b[0m         \u001b[0;32mexcept\u001b[0m \u001b[0mOSError\u001b[0m \u001b[0;32mas\u001b[0m \u001b[0me\u001b[0m\u001b[0;34m:\u001b[0m\u001b[0;34m\u001b[0m\u001b[0m\n",
      "\u001b[0;32m/anaconda3/lib/python3.6/subprocess.py\u001b[0m in \u001b[0;36m__init__\u001b[0;34m(self, args, bufsize, executable, stdin, stdout, stderr, preexec_fn, close_fds, shell, cwd, env, universal_newlines, startupinfo, creationflags, restore_signals, start_new_session, pass_fds, encoding, errors)\u001b[0m\n\u001b[1;32m    708\u001b[0m                                 \u001b[0merrread\u001b[0m\u001b[0;34m,\u001b[0m \u001b[0merrwrite\u001b[0m\u001b[0;34m,\u001b[0m\u001b[0;34m\u001b[0m\u001b[0m\n\u001b[0;32m--> 709\u001b[0;31m                                 restore_signals, start_new_session)\n\u001b[0m\u001b[1;32m    710\u001b[0m         \u001b[0;32mexcept\u001b[0m\u001b[0;34m:\u001b[0m\u001b[0;34m\u001b[0m\u001b[0m\n",
      "\u001b[0;32m/anaconda3/lib/python3.6/subprocess.py\u001b[0m in \u001b[0;36m_execute_child\u001b[0;34m(self, args, executable, preexec_fn, close_fds, pass_fds, cwd, env, startupinfo, creationflags, shell, p2cread, p2cwrite, c2pread, c2pwrite, errread, errwrite, restore_signals, start_new_session)\u001b[0m\n\u001b[1;32m   1343\u001b[0m                             \u001b[0merr_msg\u001b[0m \u001b[0;34m+=\u001b[0m \u001b[0;34m': '\u001b[0m \u001b[0;34m+\u001b[0m \u001b[0mrepr\u001b[0m\u001b[0;34m(\u001b[0m\u001b[0merr_filename\u001b[0m\u001b[0;34m)\u001b[0m\u001b[0;34m\u001b[0m\u001b[0m\n\u001b[0;32m-> 1344\u001b[0;31m                     \u001b[0;32mraise\u001b[0m \u001b[0mchild_exception_type\u001b[0m\u001b[0;34m(\u001b[0m\u001b[0merrno_num\u001b[0m\u001b[0;34m,\u001b[0m \u001b[0merr_msg\u001b[0m\u001b[0;34m,\u001b[0m \u001b[0merr_filename\u001b[0m\u001b[0;34m)\u001b[0m\u001b[0;34m\u001b[0m\u001b[0m\n\u001b[0m\u001b[1;32m   1345\u001b[0m                 \u001b[0;32mraise\u001b[0m \u001b[0mchild_exception_type\u001b[0m\u001b[0;34m(\u001b[0m\u001b[0merr_msg\u001b[0m\u001b[0;34m)\u001b[0m\u001b[0;34m\u001b[0m\u001b[0m\n",
      "\u001b[0;31mFileNotFoundError\u001b[0m: [Errno 2] No such file or directory: 'dot': 'dot'",
      "\nDuring handling of the above exception, another exception occurred:\n",
      "\u001b[0;31mFileNotFoundError\u001b[0m                         Traceback (most recent call last)",
      "\u001b[0;32m<ipython-input-4-8d148090a668>\u001b[0m in \u001b[0;36m<module>\u001b[0;34m()\u001b[0m\n\u001b[1;32m      1\u001b[0m \u001b[0mg\u001b[0m \u001b[0;34m=\u001b[0m \u001b[0mGraph\u001b[0m\u001b[0;34m(\u001b[0m\u001b[0;34m)\u001b[0m\u001b[0;34m\u001b[0m\u001b[0m\n\u001b[1;32m      2\u001b[0m \u001b[0mg\u001b[0m\u001b[0;34m.\u001b[0m\u001b[0madd\u001b[0m\u001b[0;34m(\u001b[0m\u001b[0mstatement\u001b[0m\u001b[0;34m(\u001b[0m\u001b[0muri\u001b[0m\u001b[0;34m(\u001b[0m\u001b[0;34m)\u001b[0m\u001b[0;34m,\u001b[0m \u001b[0mRDF\u001b[0m\u001b[0;34m.\u001b[0m\u001b[0mtype\u001b[0m\u001b[0;34m,\u001b[0m \u001b[0muri\u001b[0m\u001b[0;34m(\u001b[0m\u001b[0;34m'Album'\u001b[0m\u001b[0;34m)\u001b[0m\u001b[0;34m)\u001b[0m\u001b[0;34m)\u001b[0m\u001b[0;34m\u001b[0m\u001b[0m\n\u001b[0;32m----> 3\u001b[0;31m \u001b[0mvisualize\u001b[0m\u001b[0;34m(\u001b[0m\u001b[0mg\u001b[0m\u001b[0;34m)\u001b[0m\u001b[0;34m\u001b[0m\u001b[0m\n\u001b[0m\u001b[1;32m      4\u001b[0m \u001b[0;34m\u001b[0m\u001b[0m\n\u001b[1;32m      5\u001b[0m \u001b[0;31m# Warum ändert sich die URI des linken Knotens? Antwort:\u001b[0m\u001b[0;34m\u001b[0m\u001b[0;34m\u001b[0m\u001b[0m\n",
      "\u001b[0;32m<ipython-input-2-aaddde4b84e6>\u001b[0m in \u001b[0;36mvisualize\u001b[0;34m(g)\u001b[0m\n\u001b[1;32m     13\u001b[0m     \u001b[0mrdf2dot\u001b[0m\u001b[0;34m(\u001b[0m\u001b[0mg\u001b[0m\u001b[0;34m,\u001b[0m \u001b[0mstream\u001b[0m\u001b[0;34m)\u001b[0m\u001b[0;34m\u001b[0m\u001b[0m\n\u001b[1;32m     14\u001b[0m     \u001b[0;34m(\u001b[0m\u001b[0mdg\u001b[0m\u001b[0;34m,\u001b[0m\u001b[0;34m)\u001b[0m \u001b[0;34m=\u001b[0m \u001b[0mpydot\u001b[0m\u001b[0;34m.\u001b[0m\u001b[0mgraph_from_dot_data\u001b[0m\u001b[0;34m(\u001b[0m\u001b[0mstream\u001b[0m\u001b[0;34m.\u001b[0m\u001b[0mgetvalue\u001b[0m\u001b[0;34m(\u001b[0m\u001b[0;34m)\u001b[0m\u001b[0;34m)\u001b[0m\u001b[0;34m\u001b[0m\u001b[0m\n\u001b[0;32m---> 15\u001b[0;31m     \u001b[0mdisplay\u001b[0m\u001b[0;34m(\u001b[0m\u001b[0mImage\u001b[0m\u001b[0;34m(\u001b[0m\u001b[0mdg\u001b[0m\u001b[0;34m.\u001b[0m\u001b[0mcreate_png\u001b[0m\u001b[0;34m(\u001b[0m\u001b[0;34m)\u001b[0m\u001b[0;34m)\u001b[0m\u001b[0;34m)\u001b[0m\u001b[0;34m\u001b[0m\u001b[0m\n\u001b[0m\u001b[1;32m     16\u001b[0m \u001b[0;34m\u001b[0m\u001b[0m\n\u001b[1;32m     17\u001b[0m \u001b[0;32mdef\u001b[0m \u001b[0mprettyprint\u001b[0m\u001b[0;34m(\u001b[0m\u001b[0mg\u001b[0m\u001b[0;34m)\u001b[0m\u001b[0;34m:\u001b[0m\u001b[0;34m\u001b[0m\u001b[0m\n",
      "\u001b[0;32m/anaconda3/lib/python3.6/site-packages/pydot.py\u001b[0m in \u001b[0;36mnew_method\u001b[0;34m(f, prog, encoding)\u001b[0m\n\u001b[1;32m   1660\u001b[0m                 \u001b[0;34m\"\"\"Refer to docstring of method `create`.\"\"\"\u001b[0m\u001b[0;34m\u001b[0m\u001b[0m\n\u001b[1;32m   1661\u001b[0m                 return self.create(\n\u001b[0;32m-> 1662\u001b[0;31m                     format=f, prog=prog, encoding=encoding)\n\u001b[0m\u001b[1;32m   1663\u001b[0m             \u001b[0mname\u001b[0m \u001b[0;34m=\u001b[0m \u001b[0;34m'create_{fmt}'\u001b[0m\u001b[0;34m.\u001b[0m\u001b[0mformat\u001b[0m\u001b[0;34m(\u001b[0m\u001b[0mfmt\u001b[0m\u001b[0;34m=\u001b[0m\u001b[0mfrmt\u001b[0m\u001b[0;34m)\u001b[0m\u001b[0;34m\u001b[0m\u001b[0m\n\u001b[1;32m   1664\u001b[0m             \u001b[0mself\u001b[0m\u001b[0;34m.\u001b[0m\u001b[0m__setattr__\u001b[0m\u001b[0;34m(\u001b[0m\u001b[0mname\u001b[0m\u001b[0;34m,\u001b[0m \u001b[0mnew_method\u001b[0m\u001b[0;34m)\u001b[0m\u001b[0;34m\u001b[0m\u001b[0m\n",
      "\u001b[0;32m/anaconda3/lib/python3.6/site-packages/pydot.py\u001b[0m in \u001b[0;36mcreate\u001b[0;34m(self, prog, format, encoding)\u001b[0m\n\u001b[1;32m   1865\u001b[0m                 args[1] = '\"{prog}\" not found in path.'.format(\n\u001b[1;32m   1866\u001b[0m                     prog=prog)\n\u001b[0;32m-> 1867\u001b[0;31m                 \u001b[0;32mraise\u001b[0m \u001b[0mOSError\u001b[0m\u001b[0;34m(\u001b[0m\u001b[0;34m*\u001b[0m\u001b[0margs\u001b[0m\u001b[0;34m)\u001b[0m\u001b[0;34m\u001b[0m\u001b[0m\n\u001b[0m\u001b[1;32m   1868\u001b[0m             \u001b[0;32melse\u001b[0m\u001b[0;34m:\u001b[0m\u001b[0;34m\u001b[0m\u001b[0m\n\u001b[1;32m   1869\u001b[0m                 \u001b[0;32mraise\u001b[0m\u001b[0;34m\u001b[0m\u001b[0m\n",
      "\u001b[0;31mFileNotFoundError\u001b[0m: [Errno 2] \"dot\" not found in path."
     ]
    }
   ],
   "source": [
    "g = Graph()\n",
    "g.add(statement(uri(), RDF.type, uri('Album')))\n",
    "visualize(g)\n",
    "\n",
    "# Warum ändert sich die URI des linken Knotens? Antwort: "
   ]
  },
  {
   "cell_type": "markdown",
   "metadata": {
    "deletable": false
   },
   "source": [
    "Das war nun ein \"minimaler\" Graph mit nur einem *statement*. Spannender wird es, wenn wir under Album etwas mehr beschreiben. Schauen Sie sich den folgenden Programmcode genau an. Wir benötigen hier weitere Konzepte die wir in der Vorlesung eingeführt haben, z.B. das Literal und Datentypen. Zudem binden wir den Präfix `ex` im erzeugten Graphen."
   ]
  },
  {
   "cell_type": "code",
   "execution_count": null,
   "metadata": {
    "deletable": false
   },
   "outputs": [],
   "source": [
    "g = Graph()\n",
    "g.bind('ex', ex)\n",
    "aAlbum = uri()\n",
    "g.add(statement(aAlbum, RDF.type, uri('Album')))\n",
    "g.add(statement(aAlbum, uri('title'), Literal('The Dark Side of the Moon')))\n",
    "visualize(g)\n",
    "\n",
    "# Wieviele Kanten hat dieser Graph? Antwort: "
   ]
  },
  {
   "cell_type": "markdown",
   "metadata": {
    "deletable": false
   },
   "source": [
    "Wir können den Graph auch anders ausdrucken, per *statement*. Beachten Sie, dass sich die Reihenfolge ändern kann. RDF ist eine *statement* Menge ohne implizite Sortierung. Erinnern Sie sich, dass bei XML die Sortierung von XML Elemente in der Baumstruktur klar definiert ist. Bei RDF gibt es keine equivalente Sortierung."
   ]
  },
  {
   "cell_type": "code",
   "execution_count": null,
   "metadata": {
    "deletable": false
   },
   "outputs": [],
   "source": [
    "prettyprint(g)"
   ]
  },
  {
   "cell_type": "markdown",
   "metadata": {
    "deletable": false
   },
   "source": [
    "Wir können nun das Album weiter beschreiben, inklusive das Label und das release Datum welches wir hier in zwei Variante darstellen: einmal als Literal mit Datentype *date* und einmal mittels eines *blank node*. Schauen Sie sich den *blank node* genau an und erklären Sie wir dieser sich von der Album URI unterscheidet. Ist es möglich den *blank node* zur referenzieren?"
   ]
  },
  {
   "cell_type": "code",
   "execution_count": null,
   "metadata": {
    "deletable": false
   },
   "outputs": [],
   "source": [
    "from rdflib import BNode\n",
    "\n",
    "bn = BNode()\n",
    "\n",
    "g = Graph()\n",
    "g.bind('ex', ex)\n",
    "aAlbum = uri()\n",
    "g.add(statement(aAlbum, RDF.type, uri('Album')))\n",
    "g.add(statement(aAlbum, uri('title'), Literal('The Dark Side of the Moon')))\n",
    "g.add(statement(aAlbum, uri('label'), Literal('Harvest, EMI')))\n",
    "g.add(statement(aAlbum, uri('releasedOn'), Literal('1973-03-16')))\n",
    "g.add(statement(aAlbum, uri('released'), bn))\n",
    "g.add(statement(bn, uri('year'), Literal('1973')))\n",
    "g.add(statement(bn, uri('month'), Literal('03')))\n",
    "g.add(statement(bn, uri('day'), Literal('16')))\n",
    "visualize(g)\n",
    "\n",
    "# Wieviele statements hat dieser Graph? Antwort: "
   ]
  },
  {
   "cell_type": "markdown",
   "metadata": {
    "deletable": false
   },
   "source": [
    "Erzeugen Sie nun einen Graphen der die Ressource `Single` mit Title \"What God Wants, Part 1\" von Author mit Vorname Roger und Nachname Waters im Jahr 1992 veröffentlicht hat."
   ]
  },
  {
   "cell_type": "code",
   "execution_count": null,
   "metadata": {
    "deletable": false
   },
   "outputs": [],
   "source": []
  },
  {
   "cell_type": "markdown",
   "metadata": {
    "deletable": false
   },
   "source": [
    "Und zum Schluss, überlegen Sie sich selbst eine Ressource und beschreiben diese als RDF."
   ]
  },
  {
   "cell_type": "code",
   "execution_count": null,
   "metadata": {
    "deletable": false
   },
   "outputs": [],
   "source": []
  }
 ],
 "metadata": {
  "kernelspec": {
   "display_name": "Python 3",
   "language": "python",
   "name": "python3"
  },
  "language_info": {
   "codemirror_mode": {
    "name": "ipython",
    "version": 3
   },
   "file_extension": ".py",
   "mimetype": "text/x-python",
   "name": "python",
   "nbconvert_exporter": "python",
   "pygments_lexer": "ipython3",
   "version": "3.6.4"
  }
 },
 "nbformat": 4,
 "nbformat_minor": 2
}
