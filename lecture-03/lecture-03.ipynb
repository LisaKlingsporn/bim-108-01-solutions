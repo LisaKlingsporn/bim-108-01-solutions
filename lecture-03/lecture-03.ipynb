{
 "cells": [
  {
   "cell_type": "markdown",
   "metadata": {
    "deletable": false
   },
   "source": [
    "# XPath\n",
    "\n",
    "XPath ist eine Sprache zur Verarbeitung von XML Dokumenten. Man kann damit auf Teile eines XML Dokuments zugreifen, durch Elemente und Attribute navigieren, Elemente und Inhalte selektieren, wie auch einfache Operationen auf Inhalten durchführen. In dieser Übung lernen wir XPath anhand praktischen Beispiele besser kennen."
   ]
  },
  {
   "cell_type": "markdown",
   "metadata": {
    "deletable": false
   },
   "source": [
    "Schauen Sie sich die folgenden Beispiele an. \n",
    "\n",
    "Dort wo `# Erklärung:` steht, schreiben Sie Ihre Erklärung für das Resultat."
   ]
  },
  {
   "cell_type": "code",
   "execution_count": 1,
   "metadata": {
    "deletable": false
   },
   "outputs": [],
   "source": [
    "from lxml import etree as et\n",
    "\n",
    "doc = et.fromstring(\"\"\"\n",
    "<discography>\n",
    "  <albums>\n",
    "    <album>\n",
    "      <!-- The 26th best-selling album of all time -->\n",
    "      <title released=\"1973\">The Dark Side of the Moon</title>\n",
    "      <label>Harvest, EMI</label>\n",
    "      <released>\n",
    "        <day>16</day>\n",
    "        <month>03</month>\n",
    "        <year>1973</year>\n",
    "      </released>\n",
    "    </album>\n",
    "    <album>\n",
    "      <!-- The 5th best-selling album of all time -->\n",
    "      <title released=\"1979\">The Wall</title>\n",
    "      <label>Harvest, EMI</label>\n",
    "      <released>\n",
    "        <day>30</day>\n",
    "        <month>11</month>\n",
    "        <year>1979</year> \n",
    "      </released>\n",
    "    </album>\n",
    "  </albums>\n",
    "  <singles>\n",
    "    <single>\n",
    "      <author name=\"Roger Waters\">\n",
    "        <firstname>Roger</firstname>\n",
    "        <lastname>Waters</lastname>\n",
    "      </author>\n",
    "      <title released=\"1992\">What God Wants, Part 1</title>\n",
    "    </single>\n",
    "  </singles>\n",
    "</discography>\n",
    "\"\"\")\n",
    "\n",
    "def e(p):\n",
    "    print('{}'.format(p))\n",
    "    return doc.xpath(p)\n",
    "\n",
    "def p(s):\n",
    "    print('  -> {}\\n'.format(s))"
   ]
  },
  {
   "cell_type": "code",
   "execution_count": 2,
   "metadata": {
    "deletable": false,
    "scrolled": true
   },
   "outputs": [
    {
     "name": "stdout",
     "output_type": "stream",
     "text": [
      "/child::discography\n",
      "  -> [<Element discography at 0x1127b9e08>]\n",
      "\n"
     ]
    }
   ],
   "source": [
    "# Jede Zeile ist ein XPath welcher auf dem obigen XML Dokument evaluiert wird. \n",
    "# Das Resultat wird nach Ausführung unten angezeigt.\n",
    "p(e('/child::discography')) # Erklärung"
   ]
  },
  {
   "cell_type": "code",
   "execution_count": 3,
   "metadata": {
    "deletable": false
   },
   "outputs": [
    {
     "name": "stdout",
     "output_type": "stream",
     "text": [
      "/discography\n",
      "  -> discography\n",
      "\n",
      "/child::*\n",
      "  -> [<Element discography at 0x1127b9e08>]\n",
      "\n",
      "/discography/*\n",
      "  -> [<Element albums at 0x1127d3548>, <Element singles at 0x1127d34c8>]\n",
      "\n",
      "/albums\n",
      "  -> []\n",
      "\n"
     ]
    }
   ],
   "source": [
    "# Hier werden vier XPath evaluiert mit entsprechend vier Resultate\n",
    "p(e('/discography')[0].tag) # Erklärung:hier wird der Wurzelknoten adressiert\n",
    "p(e('/child::*'))\n",
    "p(e('/discography/*'))\n",
    "p(e('/albums')) # Erklärung: hier wird der Elementknoten albums adressiert"
   ]
  },
  {
   "cell_type": "code",
   "execution_count": 4,
   "metadata": {
    "deletable": false
   },
   "outputs": [
    {
     "name": "stdout",
     "output_type": "stream",
     "text": [
      "/child::discography/child::albums/child::album\n",
      "  -> [<Element album at 0x1127d30c8>, <Element album at 0x1127d3808>]\n",
      "\n",
      "/discography/albums/album\n",
      "  -> [<Element album at 0x1127d3808>, <Element album at 0x1127d3848>]\n",
      "\n",
      "/discography/albums/album/.\n",
      "  -> [<Element album at 0x1127d3848>, <Element album at 0x1127d30c8>]\n",
      "\n",
      "/discography/albums/album\n",
      "  -> <Element album at 0x1127d30c8>\n",
      "\n",
      "/discography/albums/album\n",
      "  -> album\n",
      "\n",
      "/discographie/albums/album\n",
      "  -> []\n",
      "\n"
     ]
    }
   ],
   "source": [
    "p(e('/child::discography/child::albums/child::album'))\n",
    "# Warum ergibt dies das gleiche Resultat wie der vorherige XPath?\n",
    "# Schauen Sie nicht auf die 0x... Nummern.\n",
    "p(e('/discography/albums/album')) # Erklärung: Zur Adressierung des Elements album können per Schrägstrich alle übergeordneten Elemente angegeben werden\n",
    "p(e('/discography/albums/album/.'))\n",
    "p(e('/discography/albums/album')[0])\n",
    "p(e('/discography/albums/album')[1].tag) # Erklärung:[1] adressiert das erste Kindelement von album, .tag adressiert den aktuellen Knoten, in dem Fall album\n",
    "p(e('/discographie/albums/album'))"
   ]
  },
  {
   "cell_type": "code",
   "execution_count": 5,
   "metadata": {
    "deletable": false
   },
   "outputs": [
    {
     "name": "stdout",
     "output_type": "stream",
     "text": [
      "child::singles\n",
      "  -> [<Element singles at 0x1127d34c8>]\n",
      "\n",
      "singles\n",
      "  -> [<Element singles at 0x1127d34c8>]\n",
      "\n",
      "./singles\n",
      "  -> [<Element singles at 0x1127d3588>]\n",
      "\n",
      "albums/album\n",
      "  -> [<Element album at 0x1127d3588>, <Element album at 0x1127d34c8>]\n",
      "\n"
     ]
    }
   ],
   "source": [
    "p(e('child::singles'))\n",
    "p(e('singles'))\n",
    "p(e('./singles')) # Erklärung:adressiert den aktuellen Knoten\n",
    "p(e('albums/album'))"
   ]
  },
  {
   "cell_type": "code",
   "execution_count": 6,
   "metadata": {},
   "outputs": [
    {
     "name": "stdout",
     "output_type": "stream",
     "text": [
      "//singles\n",
      "  -> [<Element singles at 0x1127d3ec8>]\n",
      "\n",
      "//album\n",
      "  -> [<Element album at 0x1127d3f08>, <Element album at 0x1127d3f48>]\n",
      "\n",
      "//day\n",
      "  -> 30\n",
      "\n",
      "//day/text()\n",
      "  -> ['16', '30']\n",
      "\n",
      "//@released\n",
      "  -> ['1973', '1979', '1992']\n",
      "\n",
      "//@*\n",
      "  -> ['1973', '1979', 'Roger Waters', '1992']\n",
      "\n",
      "@*\n",
      "  -> []\n",
      "\n"
     ]
    }
   ],
   "source": [
    "p(e('//singles'))\n",
    "p(e('//album'))\n",
    "p(e('//day')[1].text) # Erklärung: // sucht auf allen untergeordneten Hierarchien Ebenen bei day; [1].text adressiert das erste Kindelement mit Textinhalt, in dem Fall 30\n",
    "p(e('//day/text()'))\n",
    "p(e('//@released'))\n",
    "p(e('//@*'))\n",
    "# Inwiefern ist der folgende XPath anders als der vorherige? \n",
    "p(e('@*')) # Erklärung: der XPath besteht nur aus Zeichen"
   ]
  },
  {
   "cell_type": "code",
   "execution_count": 7,
   "metadata": {
    "deletable": false
   },
   "outputs": [
    {
     "name": "stdout",
     "output_type": "stream",
     "text": [
      "descendant::*\n",
      "  -> [<Element albums at 0x1127d3d88>, <Element album at 0x1127d3f88>, <Element title at 0x1127d3e88>, <Element label at 0x1127d3fc8>, <Element released at 0x1127da048>, <Element day at 0x1127da0c8>, <Element month at 0x1127da108>, <Element year at 0x1127da148>, <Element album at 0x1127da188>, <Element title at 0x1127da088>, <Element label at 0x1127da1c8>, <Element released at 0x1127da208>, <Element day at 0x1127da248>, <Element month at 0x1127da288>, <Element year at 0x1127da2c8>, <Element singles at 0x1127da308>, <Element single at 0x1127da348>, <Element author at 0x1127da388>, <Element firstname at 0x1127da3c8>, <Element lastname at 0x1127da408>, <Element title at 0x1127da448>]\n",
      "\n",
      "descendant::*/album[1]/title\n",
      "  -> The Dark Side of the Moon\n",
      "\n",
      "descendant::*/album[2]/title/text()\n",
      "  -> ['The Wall']\n",
      "\n",
      "descendant::*/album[2]/title/text()\n",
      "  -> The Wall\n",
      "\n"
     ]
    }
   ],
   "source": [
    "p(e('descendant::*')) # Erklärung:adressiert alle Elemente unterhalb der Wurzel\n",
    "p(e('descendant::*/album[1]/title')[0].text)\n",
    "p(e('descendant::*/album[2]/title/text()'))\n",
    "p(e('descendant::*/album[2]/title/text()')[0]) # Erklärung: durch [0] wird The Wall ohne Anführungszeichen und eckigen Klammern ausgegeben"
   ]
  },
  {
   "cell_type": "code",
   "execution_count": 8,
   "metadata": {
    "deletable": false
   },
   "outputs": [
    {
     "name": "stdout",
     "output_type": "stream",
     "text": [
      "/*/albums/album[1]/title/child::text()\n",
      "  -> ['The Dark Side of the Moon']\n",
      "\n",
      "/descendant::*/album[1]/title/child::text()\n",
      "  -> The Dark Side of the Moon\n",
      "\n",
      "/descendant::*/singles/single[1]/title/text()\n",
      "  -> ['What God Wants, Part 1']\n",
      "\n",
      "/descendant::*/singles/single[2]/title/text()\n",
      "  -> []\n",
      "\n"
     ]
    }
   ],
   "source": [
    "p(e('/*/albums/album[1]/title/child::text()')) # Erklärung: * wählt auf der nächstunteren Hierarchie Ebene aus; das Erste Element von album; Kindelemnt von title der Text\n",
    "p(e('/descendant::*/album[1]/title/child::text()')[0]) # Erklärung: Kindelement von title, erste album Element\n",
    "p(e('/descendant::*/singles/single[1]/title/text()'))\n",
    "p(e('/descendant::*/singles/single[2]/title/text()')) # Erklärung: single hat kein text "
   ]
  },
  {
   "cell_type": "code",
   "execution_count": 9,
   "metadata": {
    "deletable": false
   },
   "outputs": [
    {
     "name": "stdout",
     "output_type": "stream",
     "text": [
      "/discography/albums/album/.\n",
      "  -> [<Element album at 0x1127d3b08>, <Element album at 0x1127d3a08>]\n",
      "\n",
      "/discography/albums/album/..\n",
      "  -> [<Element albums at 0x1127d3e88>]\n",
      "\n",
      "/discography/albums/album[1]/title/following-sibling::*\n",
      "  -> [<Element label at 0x1127d3e88>, <Element released at 0x1127d3b08>]\n",
      "\n",
      "/discography/albums/album[1]/label/following-sibling::*\n",
      "  -> [<Element released at 0x1127d3e88>]\n",
      "\n",
      "/discography/albums/album[1]/released/preceding-sibling::*\n",
      "  -> [<Element title at 0x1127d3a08>, <Element label at 0x1127d3e88>]\n",
      "\n",
      "/discography/albums/album[1]/released/preceding-sibling::*/text()\n",
      "  -> ['The Dark Side of the Moon', 'Harvest, EMI']\n",
      "\n",
      "//album[1]/parent::node()/album[2]/title/text()\n",
      "  -> ['The Wall']\n",
      "\n",
      "album[1]/parent::node()/album[2]/title/text()\n",
      "  -> []\n",
      "\n"
     ]
    }
   ],
   "source": [
    "p(e('/discography/albums/album/.'))\n",
    "p(e('/discography/albums/album/..')) # Erklärung: .. adressiert den Elternknoten des aktuellen Knotens\n",
    "p(e('/discography/albums/album[1]/title/following-sibling::*'))\n",
    "p(e('/discography/albums/album[1]/label/following-sibling::*'))\n",
    "p(e('/discography/albums/album[1]/released/preceding-sibling::*'))\n",
    "p(e('/discography/albums/album[1]/released/preceding-sibling::*/text()')) # Erklärung: \n",
    "p(e('//album[1]/parent::node()/album[2]/title/text()')) # Erklärung:\n",
    "p(e('album[1]/parent::node()/album[2]/title/text()'))"
   ]
  },
  {
   "cell_type": "code",
   "execution_count": 11,
   "metadata": {},
   "outputs": [
    {
     "name": "stdout",
     "output_type": "stream",
     "text": [
      "//album/title/text()\n",
      "  -> ['The Dark Side of the Moon', 'The Wall']\n",
      "\n",
      "//album/title/child::text()\n",
      "  -> ['The Dark Side of the Moon', 'The Wall']\n",
      "\n",
      "//album/comment()\n",
      "  -> [<!-- The 26th best-selling album of all time -->, <!-- The 5th best-selling album of all time -->]\n",
      "\n",
      "//album[1]/child::node()\n",
      "  -> ['\\n      ', <!-- The 26th best-selling album of all time -->, '\\n      ', <Element title at 0x1127b9fc8>, '\\n      ', <Element label at 0x1127d3f88>, '\\n      ', <Element released at 0x1127d9088>, '\\n    ']\n",
      "\n"
     ]
    }
   ],
   "source": [
    "p(e('//album/title/text()'))\n",
    "p(e('//album/title/child::text()'))\n",
    "p(e('//album/comment()'))\n",
    "p(e('//album[1]/child::node()')) # Erklärung:adressiert zunächst das erste Kindelement des Typs album, Knotenmenge Kindelemente"
   ]
  },
  {
   "cell_type": "code",
   "execution_count": 12,
   "metadata": {
    "deletable": false
   },
   "outputs": [
    {
     "name": "stdout",
     "output_type": "stream",
     "text": [
      "/discography/albums/album/title[@released]\n",
      "  -> [<Element title at 0x1127d3748>, <Element title at 0x1127d3f08>]\n",
      "\n",
      "/discography/albums/album/title[@released=\"1979\"]\n",
      "  -> [<Element title at 0x1127d3f08>]\n",
      "\n",
      "/discography/albums/album/title[@released=\"1979\"]/text()\n",
      "  -> ['The Wall']\n",
      "\n",
      "/discography/albums/album/title[@released=1979]/text()\n",
      "  -> ['The Wall']\n",
      "\n",
      "//album/title[@released=1973]/text() | //album/released[day=30]/../title/text()\n",
      "  -> ['The Dark Side of the Moon', 'The Wall']\n",
      "\n",
      "descendant::*[firstname]/@name\n",
      "  -> ['Roger Waters']\n",
      "\n",
      "descendant::*[firstname][@name=\"Roger Waters\"]/parent::single/title/text()\n",
      "  -> ['What God Wants, Part 1']\n",
      "\n"
     ]
    }
   ],
   "source": [
    "p(e('/discography/albums/album/title[@released]'))\n",
    "p(e('/discography/albums/album/title[@released=\"1979\"]')) # Erklärung:adressiert das Element title, wenn das Attribut released den Wert 1979 hat\n",
    "p(e('/discography/albums/album/title[@released=\"1979\"]/text()'))\n",
    "p(e('/discography/albums/album/title[@released=1979]/text()'))\n",
    "p(e('//album/title[@released=1973]/text() | //album/released[day=30]/../title/text()')) # Erklärung:Vereinigungsmenge von text des title Elements mit released=1973 und released Element mit day=30\n",
    "p(e('descendant::*[firstname]/@name'))\n",
    "p(e('descendant::*[firstname][@name=\"Roger Waters\"]/parent::single/title/text()')) # Erklärung:Wo name Roger Waters Elternelement Single "
   ]
  },
  {
   "cell_type": "code",
   "execution_count": 14,
   "metadata": {
    "deletable": false
   },
   "outputs": [
    {
     "name": "stdout",
     "output_type": "stream",
     "text": [
      "count(albums)\n",
      "  -> 1.0\n",
      "\n",
      "count(albums/album)\n",
      "  -> 2.0\n",
      "\n",
      "//album[position()=1]/title/text()\n",
      "  -> ['The Dark Side of the Moon']\n",
      "\n",
      "//album[1]/title/text()\n",
      "  -> ['The Dark Side of the Moon']\n",
      "\n",
      "//album[position()>1]/title/text()\n",
      "  -> ['The Wall']\n",
      "\n",
      "//album[position()>=1]/title/text()\n",
      "  -> ['The Dark Side of the Moon', 'The Wall']\n",
      "\n",
      "//album[last()]/title/text()\n",
      "  -> ['The Wall']\n",
      "\n",
      "//album[starts-with(title, \"The D\")]/title/text()\n",
      "  -> ['The Dark Side of the Moon']\n",
      "\n",
      "//album[contains(title, \"Wall\")]/title/text()\n",
      "  -> ['The Wall']\n",
      "\n",
      "//album/released[not(year=1979)]/parent::node()/title/text()\n",
      "  -> ['The Dark Side of the Moon']\n",
      "\n"
     ]
    }
   ],
   "source": [
    "p(e('count(albums)'))\n",
    "p(e('count(albums/album)')) # Erklärung: Ermittelt, wieviele Knoten auf der Ebene unterhalb des Knoten-Sets enthalten sind\n",
    "p(e('//album[position()=1]/title/text()'))\n",
    "p(e('//album[1]/title/text()'))\n",
    "p(e('//album[position()>1]/title/text()')) # Erklärung:adressiert alle außer dem ersten Kindelement des Typs album; text des title-Elements\n",
    "p(e('//album[position()>=1]/title/text()'))\n",
    "p(e('//album[last()]/title/text()'))\n",
    "p(e('//album[starts-with(title, \"The D\")]/title/text()')) # Erklärung: Findet heraus, ob am Beginn einer Zeichenkette die Teilzeichenkette \"The D\" vorkommt\n",
    "p(e('//album[contains(title, \"Wall\")]/title/text()'))\n",
    "p(e('//album/released[not(year=1979)]/parent::node()/title/text()')) # Erklärung:Nicht Jahr 1979, Elternelement von released, Knotenmenge text des title Elements"
   ]
  },
  {
   "cell_type": "markdown",
   "metadata": {
    "deletable": false
   },
   "source": [
    "Und zum Schluss, ein Beispiel mit Namensräumen."
   ]
  },
  {
   "cell_type": "code",
   "execution_count": 15,
   "metadata": {},
   "outputs": [
    {
     "name": "stdout",
     "output_type": "stream",
     "text": [
      "[<Element {http://discography.org}discography at 0x1127d3b88>]\n",
      "[<Element {http://discography.org}discography at 0x1127d3b88>]\n",
      "[<Element {http://albums.org}albums at 0x1127d9048>]\n",
      "[<Element {http://albums.org}albums at 0x1107a5388>]\n"
     ]
    }
   ],
   "source": [
    "from lxml import etree as et\n",
    "\n",
    "d = et.fromstring(\"\"\"\n",
    "<disc:discography xmlns:disc=\"http://discography.org\" xmlns:alb=\"http://albums.org\" xmlns=\"http://default.org\">\n",
    "<alb:albums>\n",
    "<alb:album title=\"The Dark Side of the Moon\" alb:year=\"1973\"/>\n",
    "</alb:albums>\n",
    "</disc:discography>\n",
    "\"\"\")\n",
    "\n",
    "print(d.xpath('/disc:discography', namespaces={'disc': 'http://discography.org'}))\n",
    "print(d.xpath('/*[local-name() = \"discography\"]'))\n",
    "print(d.xpath('/disc:discography/alb:albums', namespaces={'disc': 'http://discography.org', 'alb': 'http://albums.org'}))\n",
    "print(d.xpath('/*[local-name() = \"discography\"]/*[local-name() = \"albums\"]'))"
   ]
  },
  {
   "cell_type": "markdown",
   "metadata": {},
   "source": [
    "Denken Sie sich nun ein eigenes XML Dokument aus und testen Sie Ihre XPath Abfragen."
   ]
  },
  {
   "cell_type": "code",
   "execution_count": null,
   "metadata": {
    "deletable": false
   },
   "outputs": [],
   "source": [
    "from lxml import etree as et\n",
    "\n",
    "d = et.fromstring(\"\"\"\n",
    "<!-- Mein XML Dokument -->\n",
    "\"\"\")\n",
    "\n",
    "# Meine XPath Abfragen ... \n",
    "print(d.xpath('...'))"
   ]
  }
 ],
 "metadata": {
  "kernelspec": {
   "display_name": "Python 3",
   "language": "python",
   "name": "python3"
  },
  "language_info": {
   "codemirror_mode": {
    "name": "ipython",
    "version": 3
   },
   "file_extension": ".py",
   "mimetype": "text/x-python",
   "name": "python",
   "nbconvert_exporter": "python",
   "pygments_lexer": "ipython3",
   "version": "3.6.4"
  }
 },
 "nbformat": 4,
 "nbformat_minor": 2
}
