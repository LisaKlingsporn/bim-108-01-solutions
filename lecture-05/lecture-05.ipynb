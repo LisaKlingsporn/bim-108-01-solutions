{
 "cells": [
  {
   "cell_type": "markdown",
   "metadata": {
    "deletable": false
   },
   "source": [
    "# Schema: XML Schema"
   ]
  },
  {
   "cell_type": "markdown",
   "metadata": {
    "deletable": false
   },
   "source": [
    "Ähnlich wie die Document Type Definition (DTD), ermöglicht auch XML Schema die Spezifikation von XML Dokumente und somit das Validieren solcher Dokumente. Ziel beider Grammatiken ist die Interoperabilität zwischen entwickelten Systeme zu ermöglichen oder erhöhen. In dieser Übung schauen wir uns XML Schema etwas genauer in der Praxis an. Führen Sie zuerst den folgenden Codeblock aus und machen Sie dann der Reihe nach weiter. Beantworten Sie die Fragen (falls zutreffend). Zum Schluss, schreiben Sie ein eigenes XML Schema und ein exemplarisches XML Dokument dafür. Stellen Sie sicher, dass das XML Dokument wohlgeformt und gültig ist."
   ]
  },
  {
   "cell_type": "code",
   "execution_count": 1,
   "metadata": {
    "deletable": false
   },
   "outputs": [],
   "source": [
    "import io\n",
    "from lxml import etree as et\n",
    "\n",
    "def isvalid(xsd, doc):\n",
    "    print(et.XMLSchema(et.parse(io.StringIO(xsd))).validate(et.fromstring(doc)))"
   ]
  },
  {
   "cell_type": "code",
   "execution_count": 2,
   "metadata": {
    "deletable": false
   },
   "outputs": [
    {
     "name": "stdout",
     "output_type": "stream",
     "text": [
      "True\n",
      "False\n"
     ]
    }
   ],
   "source": [
    "xsd = \"\"\"\n",
    "<xs:schema xmlns:xs=\"http://www.w3.org/2001/XMLSchema\">\n",
    "  <xs:element name=\"discography\"/>\n",
    "</xs:schema>\n",
    "\"\"\"\n",
    "\n",
    "isvalid(xsd, '<discography/>')\n",
    "isvalid(xsd, '<albums/>') # Warum ist dieses Dokument nicht gültig? Antwort: Das Element albums ist nicht im XML Schema deklariert "
   ]
  },
  {
   "cell_type": "code",
   "execution_count": 2,
   "metadata": {
    "deletable": false
   },
   "outputs": [
    {
     "name": "stdout",
     "output_type": "stream",
     "text": [
      "True\n",
      "True\n"
     ]
    }
   ],
   "source": [
    "xsd = \"\"\"\n",
    "<xs:schema xmlns:xs=\"http://www.w3.org/2001/XMLSchema\">\n",
    "  <xs:element name=\"title\" type=\"xs:string\"/>\n",
    "</xs:schema>\n",
    "\"\"\"\n",
    "\n",
    "isvalid(xsd, '<title>The Dark Side of the Moon</title>')\n",
    "isvalid(xsd, '<title>1973</title>') # Warum ist dieses Dokument gültig? Antwort:Das einfache Element title ist deklariert "
   ]
  },
  {
   "cell_type": "code",
   "execution_count": 3,
   "metadata": {
    "deletable": false
   },
   "outputs": [
    {
     "name": "stdout",
     "output_type": "stream",
     "text": [
      "True\n",
      "False\n"
     ]
    }
   ],
   "source": [
    "xsd = \"\"\"\n",
    "<xs:schema xmlns:xs=\"http://www.w3.org/2001/XMLSchema\">\n",
    "  <xs:element name=\"year\" type=\"xs:decimal\"/>\n",
    "</xs:schema>\n",
    "\"\"\"\n",
    "\n",
    "isvalid(xsd, '<year>1973</year>')\n",
    "isvalid(xsd, '<year>The Dark Side of the Moon</year>') # Warum ist dieses Dokument nicht gültig? Antwort: da der Elementtyp decimal ist, darf The Dark Side of the Moon nicht im Element year stehen  "
   ]
  },
  {
   "cell_type": "code",
   "execution_count": 4,
   "metadata": {
    "deletable": false
   },
   "outputs": [
    {
     "name": "stdout",
     "output_type": "stream",
     "text": [
      "True\n"
     ]
    }
   ],
   "source": [
    "xsd = \"\"\"\n",
    "<xs:schema xmlns:xs=\"http://www.w3.org/2001/XMLSchema\">\n",
    "  <xs:element name=\"year\" type=\"xs:gYear\"/>\n",
    "</xs:schema>\n",
    "\"\"\"\n",
    "\n",
    "isvalid(xsd, '<year>1973</year>')"
   ]
  },
  {
   "cell_type": "code",
   "execution_count": null,
   "metadata": {
    "deletable": false
   },
   "outputs": [],
   "source": [
    "xsd = \"\"\"\n",
    "<xs:schema xmlns:xs=\"http://www.w3.org/2001/XMLSchema\">\n",
    "  <xs:element name=\"year\" type=\"xs:gMonth\"/>\n",
    "</xs:schema>\n",
    "\"\"\"\n",
    "\n",
    "isvalid(xsd, '<year>1973</year>') # Warum ist dieses Dokument nicht gültig? Antwort: hier müsste der Monat angegeben werden, da der vordefinierte Datentyp der month ist "
   ]
  },
  {
   "cell_type": "markdown",
   "metadata": {
    "deletable": false
   },
   "source": [
    "## Komplexe Elemente Deklarieren: Variante I"
   ]
  },
  {
   "cell_type": "code",
   "execution_count": 5,
   "metadata": {
    "deletable": false
   },
   "outputs": [
    {
     "name": "stdout",
     "output_type": "stream",
     "text": [
      "True\n"
     ]
    }
   ],
   "source": [
    "xsd = \"\"\"\n",
    "<xs:schema xmlns:xs=\"http://www.w3.org/2001/XMLSchema\">\n",
    "  <xs:element name=\"album\">\n",
    "    <xs:complexType>\n",
    "      <xs:sequence>\n",
    "        <xs:element name=\"title\" type=\"xs:string\"/>\n",
    "        <xs:element name=\"label\" type=\"xs:string\"/>\n",
    "      </xs:sequence>\n",
    "    </xs:complexType>\n",
    "  </xs:element>\n",
    "</xs:schema>\n",
    "\"\"\"\n",
    "\n",
    "doc = \"\"\"\n",
    "<album>\n",
    "<title>The Dark Side of the Moon</title>\n",
    "<label>Harvest, EMI</label>\n",
    "</album>\n",
    "\"\"\"\n",
    "\n",
    "isvalid(xsd, doc)"
   ]
  },
  {
   "cell_type": "code",
   "execution_count": 3,
   "metadata": {
    "deletable": false
   },
   "outputs": [
    {
     "name": "stdout",
     "output_type": "stream",
     "text": [
      "False\n"
     ]
    }
   ],
   "source": [
    "xsd = \"\"\"\n",
    "<xs:schema xmlns:xs=\"http://www.w3.org/2001/XMLSchema\">\n",
    "  <xs:element name=\"album\">\n",
    "    <xs:complexType>\n",
    "      <xs:sequence>\n",
    "        <xs:element name=\"label\" type=\"xs:string\"/>\n",
    "        <xs:element name=\"title\" type=\"xs:string\"/>\n",
    "      </xs:sequence>\n",
    "    </xs:complexType>\n",
    "  </xs:element>\n",
    "</xs:schema>\n",
    "\"\"\"\n",
    "\n",
    "doc = \"\"\"\n",
    "<album>\n",
    "<title>The Dark Side of the Moon</title>\n",
    "<label>Harvest, EMI</label>\n",
    "</album>\n",
    "\"\"\"\n",
    "\n",
    "isvalid(xsd, doc) # Warum ist dieses Dokument nicht gültig? Antwort: die Reihenfolge der Elemente label und title wurde vertauscht"
   ]
  },
  {
   "cell_type": "code",
   "execution_count": 10,
   "metadata": {
    "deletable": false
   },
   "outputs": [
    {
     "name": "stdout",
     "output_type": "stream",
     "text": [
      "False\n"
     ]
    }
   ],
   "source": [
    "xsd = \"\"\"\n",
    "<xs:schema xmlns:xs=\"http://www.w3.org/2001/XMLSchema\">\n",
    "  <xs:element name=\"album\">\n",
    "    <xs:complexType>\n",
    "      <xs:sequence>\n",
    "        <xs:element name=\"title\" type=\"xs:string\"/>\n",
    "        <xs:element name=\"label\" type=\"xs:string\"/>\n",
    "      </xs:sequence>\n",
    "    </xs:complexType>\n",
    "  </xs:element>\n",
    "</xs:schema>\n",
    "\"\"\"\n",
    "\n",
    "doc = \"\"\"\n",
    "<album>\n",
    "<label>Harvest, EMI</label>\n",
    "<title>The Dark Side of the Moon</title>\n",
    "</album>\n",
    "\"\"\"\n",
    "\n",
    "isvalid(xsd, doc) # Warum ist dieses Dokument nicht gültig? Antwort: Die Reihenfolge der elemente label und title sind vertauscht"
   ]
  },
  {
   "cell_type": "markdown",
   "metadata": {
    "deletable": false
   },
   "source": [
    "## Komplexe Elemente Deklarieren: Variante II"
   ]
  },
  {
   "cell_type": "code",
   "execution_count": 11,
   "metadata": {
    "deletable": false
   },
   "outputs": [
    {
     "name": "stdout",
     "output_type": "stream",
     "text": [
      "True\n"
     ]
    }
   ],
   "source": [
    "xsd = \"\"\"\n",
    "<xs:schema xmlns:xs=\"http://www.w3.org/2001/XMLSchema\">\n",
    "  <xs:element name=\"album\" type=\"AlbumType\"/>\n",
    "  \n",
    "  <xs:complexType name=\"AlbumType\">\n",
    "    <xs:sequence>\n",
    "      <xs:element name=\"title\" type=\"xs:string\"/>\n",
    "      <xs:element name=\"label\" type=\"xs:string\"/>\n",
    "    </xs:sequence>\n",
    "  </xs:complexType>\n",
    "\n",
    "</xs:schema>\n",
    "\"\"\"\n",
    "\n",
    "doc = \"\"\"\n",
    "<album>\n",
    "<title>The Dark Side of the Moon</title>\n",
    "<label>Harvest, EMI</label>\n",
    "</album>\n",
    "\"\"\"\n",
    "\n",
    "isvalid(xsd, doc)"
   ]
  },
  {
   "cell_type": "code",
   "execution_count": 14,
   "metadata": {
    "deletable": false
   },
   "outputs": [
    {
     "name": "stdout",
     "output_type": "stream",
     "text": [
      "True\n",
      "False\n"
     ]
    }
   ],
   "source": [
    "xsd = \"\"\"\n",
    "<xs:schema xmlns:xs=\"http://www.w3.org/2001/XMLSchema\">\n",
    "  <xs:element name=\"work\" type=\"WorkType\"/>\n",
    "  <xs:element name=\"album\" type=\"AlbumType\"/>\n",
    "  <xs:complexType name=\"WorkType\">\n",
    "    <xs:sequence>\n",
    "      <xs:element name=\"title\" type=\"xs:string\"/>\n",
    "    </xs:sequence>\n",
    "  </xs:complexType>\n",
    "  <xs:complexType name=\"AlbumType\">\n",
    "    <xs:complexContent>\n",
    "      <xs:extension base=\"WorkType\">\n",
    "        <xs:sequence>\n",
    "          <xs:element name=\"label\" type=\"xs:string\"/>\n",
    "        </xs:sequence>\n",
    "      </xs:extension>\n",
    "    </xs:complexContent>\n",
    " </xs:complexType>\n",
    "</xs:schema>\n",
    "\"\"\"\n",
    "\n",
    "doc = \"\"\"\n",
    "<album>\n",
    "<title>The Dark Side of the Moon</title>\n",
    "<label>Harvest, EMI</label>\n",
    "</album>\n",
    "\"\"\"\n",
    "\n",
    "isvalid(xsd, doc)\n",
    "\n",
    "doc = \"\"\"\n",
    "<album>\n",
    "<!-- The order matters -->\n",
    "<label>Harvest, EMI</label>\n",
    "<title>The Dark Side of the Moon</title>\n",
    "</album>\n",
    "\"\"\"\n",
    "\n",
    "isvalid(xsd, doc) # Warum ist dieses Dokument nicht gültig? Antwort: Es muss zuerst das Element title, dann lable aufgelistet werden"
   ]
  },
  {
   "cell_type": "markdown",
   "metadata": {
    "deletable": false
   },
   "source": [
    "# Attribute Deklarieren"
   ]
  },
  {
   "cell_type": "code",
   "execution_count": 15,
   "metadata": {
    "deletable": false
   },
   "outputs": [
    {
     "name": "stdout",
     "output_type": "stream",
     "text": [
      "True\n"
     ]
    }
   ],
   "source": [
    "xsd = \"\"\"\n",
    "<xs:schema xmlns:xs=\"http://www.w3.org/2001/XMLSchema\">\n",
    "  <xs:element name=\"album\">\n",
    "    <xs:complexType>\n",
    "      <xs:attribute name=\"title\" type=\"xs:string\"/>\n",
    "    </xs:complexType>\n",
    "  </xs:element>\n",
    "</xs:schema>\n",
    "\"\"\"\n",
    "\n",
    "doc = \"\"\"\n",
    "<album title=\"The Dark Side of the Moon\"/>\n",
    "\"\"\"\n",
    "\n",
    "isvalid(xsd, doc)"
   ]
  },
  {
   "cell_type": "code",
   "execution_count": 16,
   "metadata": {
    "deletable": false
   },
   "outputs": [
    {
     "name": "stdout",
     "output_type": "stream",
     "text": [
      "True\n"
     ]
    }
   ],
   "source": [
    "xsd = \"\"\"\n",
    "<xs:schema xmlns:xs=\"http://www.w3.org/2001/XMLSchema\">\n",
    "  <xs:element name=\"album\">\n",
    "    <xs:complexType>\n",
    "      <xs:simpleContent>\n",
    "        <xs:extension base=\"xs:string\">\n",
    "          <xs:attribute name=\"year\" type=\"xs:gYear\" />\n",
    "        </xs:extension>\n",
    "      </xs:simpleContent>\n",
    "    </xs:complexType>\n",
    "  </xs:element>\n",
    "</xs:schema>\n",
    "\"\"\"\n",
    "\n",
    "doc = \"\"\"\n",
    "<album year=\"1973\">The Dark Side of the Moon</album>\n",
    "\"\"\"\n",
    "\n",
    "isvalid(xsd, doc)"
   ]
  },
  {
   "cell_type": "markdown",
   "metadata": {
    "deletable": false
   },
   "source": [
    "# Weitere Eigenschaften"
   ]
  },
  {
   "cell_type": "code",
   "execution_count": 17,
   "metadata": {
    "deletable": false
   },
   "outputs": [
    {
     "name": "stdout",
     "output_type": "stream",
     "text": [
      "True\n"
     ]
    }
   ],
   "source": [
    "xsd = \"\"\"\n",
    "<xs:schema xmlns:xs=\"http://www.w3.org/2001/XMLSchema\">\n",
    "  <xs:element name=\"album\">\n",
    "    <xs:complexType>\n",
    "      <xs:sequence>\n",
    "        <xs:element name=\"title\" type=\"xs:string\" maxOccurs=\"2\"/>\n",
    "        <xs:element name=\"label\" type=\"xs:string\"/>\n",
    "      </xs:sequence>\n",
    "    </xs:complexType>\n",
    "  </xs:element>\n",
    "</xs:schema>\n",
    "\"\"\"\n",
    "\n",
    "doc = \"\"\"\n",
    "<album>\n",
    "<title>The Dark Side of the Moon</title>\n",
    "<title>The Bright Side of the Moon</title>\n",
    "<label>Harvest, EMI</label>\n",
    "</album>\n",
    "\"\"\"\n",
    "\n",
    "isvalid(xsd, doc) # Warum ist dieses Dokument gültig? Antwort: das Element title darf maximal zweimal vorkommen, Elememt lable kommt einmal vor"
   ]
  },
  {
   "cell_type": "code",
   "execution_count": 18,
   "metadata": {
    "deletable": false
   },
   "outputs": [
    {
     "name": "stdout",
     "output_type": "stream",
     "text": [
      "True\n",
      "True\n"
     ]
    }
   ],
   "source": [
    "xsd = \"\"\"\n",
    "<xs:schema xmlns:xs=\"http://www.w3.org/2001/XMLSchema\">\n",
    "  <xs:element name=\"album\">\n",
    "    <xs:complexType>\n",
    "      <xs:all>\n",
    "        <xs:element name=\"title\" type=\"xs:string\"/>\n",
    "        <xs:element name=\"label\" type=\"xs:string\"/>\n",
    "      </xs:all>\n",
    "    </xs:complexType>\n",
    "  </xs:element>\n",
    "</xs:schema>\n",
    "\"\"\"\n",
    "\n",
    "doc = \"\"\"\n",
    "<album>\n",
    "<title>The Dark Side of the Moon</title>\n",
    "<label>Harvest, EMI</label>\n",
    "</album>\n",
    "\"\"\"\n",
    "\n",
    "isvalid(xsd, doc)\n",
    "\n",
    "doc = \"\"\"\n",
    "<album>\n",
    "<label>Harvest, EMI</label>\n",
    "<title>The Dark Side of the Moon</title>\n",
    "</album>\n",
    "\"\"\"\n",
    "\n",
    "isvalid(xsd, doc) # Warum ist dieses Dokument gültig? Antwort: xs:all legt fest, dass die Elemente in einer beliebigen Reihenfolge aufgeführt werden können"
   ]
  },
  {
   "cell_type": "code",
   "execution_count": 19,
   "metadata": {
    "deletable": false
   },
   "outputs": [
    {
     "name": "stdout",
     "output_type": "stream",
     "text": [
      "True\n",
      "True\n",
      "False\n"
     ]
    }
   ],
   "source": [
    "xsd = \"\"\"\n",
    "<xs:schema xmlns:xs=\"http://www.w3.org/2001/XMLSchema\">\n",
    "  <xs:element name=\"album\">\n",
    "    <xs:complexType>\n",
    "      <xs:choice>\n",
    "        <xs:element name=\"title\" type=\"xs:string\"/>\n",
    "        <xs:element name=\"label\" type=\"xs:string\"/>\n",
    "      </xs:choice>\n",
    "    </xs:complexType>\n",
    "  </xs:element>\n",
    "</xs:schema>\n",
    "\"\"\"\n",
    "\n",
    "doc = \"\"\"\n",
    "<album>\n",
    "<title>The Dark Side of the Moon</title>\n",
    "</album>\n",
    "\"\"\"\n",
    "\n",
    "isvalid(xsd, doc)\n",
    "\n",
    "doc = \"\"\"\n",
    "<album>\n",
    "<label>Harvest, EMI</label>\n",
    "</album>\n",
    "\"\"\"\n",
    "\n",
    "isvalid(xsd, doc)\n",
    "\n",
    "doc = \"\"\"\n",
    "<album>\n",
    "<title>The Dark Side of the Moon</title>\n",
    "<label>Harvest, EMI</label>\n",
    "</album>\n",
    "\"\"\"\n",
    "\n",
    "isvalid(xsd, doc) # Warum ist dieses Dokument nicht gültig? Antwort: xs:choice besagt, dass entweder das Element label oder das Element title vorkommen darf (nicht beide) "
   ]
  },
  {
   "cell_type": "code",
   "execution_count": 20,
   "metadata": {
    "deletable": false
   },
   "outputs": [
    {
     "name": "stdout",
     "output_type": "stream",
     "text": [
      "True\n",
      "False\n"
     ]
    }
   ],
   "source": [
    "xsd = \"\"\"\n",
    "<xs:schema xmlns:xs=\"http://www.w3.org/2001/XMLSchema\">\n",
    "  <xs:element name=\"released\">\n",
    "    <xs:simpleType>\n",
    "      <xs:restriction base=\"xs:integer\">\n",
    "        <xs:minInclusive value=\"1950\"/>\n",
    "        <xs:maxInclusive value=\"2018\"/>\n",
    "      </xs:restriction>\n",
    "    </xs:simpleType>\n",
    "  </xs:element>\n",
    "</xs:schema>\n",
    "\"\"\"\n",
    "\n",
    "doc = \"\"\"\n",
    "<released>1973</released>\n",
    "\"\"\"\n",
    "\n",
    "isvalid(xsd, doc)\n",
    "\n",
    "doc = \"\"\"\n",
    "<released>2020</released>\n",
    "\"\"\"\n",
    "\n",
    "isvalid(xsd, doc) # Warum ist dieses Dokument nicht gültig? Antwort: das XML Schema legt fest, dass der Wert zwischen den Jahren 1950 und 2018 sein muss"
   ]
  },
  {
   "cell_type": "code",
   "execution_count": 23,
   "metadata": {
    "deletable": false
   },
   "outputs": [
    {
     "name": "stdout",
     "output_type": "stream",
     "text": [
      "True\n",
      "False\n"
     ]
    }
   ],
   "source": [
    "xsd = \"\"\"\n",
    "<xs:schema xmlns:xs=\"http://www.w3.org/2001/XMLSchema\">\n",
    "  <xs:element name=\"author\">\n",
    "    <xs:simpleType>\n",
    "      <xs:restriction base=\"xs:string\">\n",
    "        <xs:enumeration value=\"Roger Waters\"/>\n",
    "        <xs:enumeration value=\"David Gilmour\"/>\n",
    "        <xs:enumeration value=\"Syd Barrett\"/>\n",
    "      </xs:restriction>\n",
    "    </xs:simpleType>\n",
    "  </xs:element>\n",
    "</xs:schema>\n",
    "\"\"\"\n",
    "\n",
    "doc = \"\"\"\n",
    "<author>Roger Waters</author>\n",
    "\"\"\"\n",
    "\n",
    "isvalid(xsd, doc)\n",
    "\n",
    "doc = \"\"\"\n",
    "<author>Jimmy Page</author>\n",
    "\"\"\"\n",
    "\n",
    "isvalid(xsd, doc) # Warum ist dieses Dokument nicht gültig? Antwort: Die Restrictions lassen nur die drei angegebenen Namenswerte zu"
   ]
  },
  {
   "cell_type": "code",
   "execution_count": 25,
   "metadata": {
    "deletable": false
   },
   "outputs": [
    {
     "name": "stdout",
     "output_type": "stream",
     "text": [
      "True\n",
      "False\n"
     ]
    }
   ],
   "source": [
    "xsd = \"\"\"\n",
    "<xs:schema xmlns:xs=\"http://www.w3.org/2001/XMLSchema\">\n",
    "  <xs:element name=\"author\">\n",
    "    <xs:simpleType>\n",
    "      <xs:restriction base=\"xs:string\">\n",
    "        <xs:pattern value=\"[A-Z][a-z]+\"/>\n",
    "      </xs:restriction>\n",
    "    </xs:simpleType>\n",
    "  </xs:element>\n",
    "</xs:schema>\n",
    "\"\"\"\n",
    "\n",
    "doc = \"\"\"\n",
    "<author>Waters</author>\n",
    "\"\"\"\n",
    "\n",
    "isvalid(xsd, doc)\n",
    "\n",
    "doc = \"\"\"\n",
    "<author>gilmour</author>\n",
    "\"\"\"\n",
    "\n",
    "isvalid(xsd, doc) # Warum ist dieses Dokument nicht gültig? Antwort: Die Restrictions geben das Wertemuster vor, deswegen müsste Gilmor mit einem großen G geschrieben werden"
   ]
  },
  {
   "cell_type": "code",
   "execution_count": 26,
   "metadata": {
    "deletable": false
   },
   "outputs": [
    {
     "name": "stdout",
     "output_type": "stream",
     "text": [
      "True\n"
     ]
    }
   ],
   "source": [
    "xsd = \"\"\"\n",
    "<xs:schema xmlns:xs=\"http://www.w3.org/2001/XMLSchema\" \n",
    "  targetNamespace=\"http://example.org\"\n",
    "  elementFormDefault=\"qualified\">\n",
    "  <xs:element name=\"album\">\n",
    "    <xs:complexType>\n",
    "      <xs:sequence>\n",
    "        <xs:element name=\"title\" type=\"xs:string\"/>\n",
    "        <xs:element name=\"label\" type=\"xs:string\"/>\n",
    "      </xs:sequence>\n",
    "    </xs:complexType>\n",
    "  </xs:element>\n",
    "</xs:schema>\n",
    "\"\"\"\n",
    "\n",
    "doc = \"\"\"\n",
    "<album xmlns=\"http://example.org\">\n",
    "<title>The Dark Side of the Moon</title>\n",
    "<label>Harvest, EMI</label>\n",
    "</album>\n",
    "\"\"\"\n",
    "\n",
    "isvalid(xsd, doc)"
   ]
  },
  {
   "cell_type": "markdown",
   "metadata": {
    "deletable": false
   },
   "source": [
    "Denken Sie sich nun ein eigenes XML Dokument aus und erstellen Sie dafür ein XML Schema. Überprüfen Sie das XML Dokument auf Gültigkeit."
   ]
  },
  {
   "cell_type": "code",
   "execution_count": null,
   "metadata": {
    "deletable": false
   },
   "outputs": [],
   "source": [
    "xsd = \"\"\"\n",
    "<?xml version=\"1.0\"?>\n",
    "<xs:schema xmlns:xs=\"http://www.w3.org/2001/XMLSchema\">\n",
    "<xs:element name=\"note\">\n",
    "  <xs:complexType>\n",
    "    <xs:sequence>\n",
    "      <xs:element name=\"to\" type=\"xs:string\"/>\n",
    "      <xs:element name=\"from\" type=\"xs:string\"/>\n",
    "      <xs:element name=\"heading\" type=\"xs:string\"/>\n",
    "      <xs:element name=\"body\" type=\"xs:string\"/>\n",
    "    </xs:sequence>\n",
    "  </xs:complexType>\n",
    "</xs:element>\n",
    "</xs:schema>\n",
    "\"\"\"\n",
    "\n",
    "doc = \"\"\"\n",
    "<album xmlns=\"http://www.w3.org/2001/XMLSchema\">\n",
    "<title>The Dark Side of the Moon</title>\n",
    "<label>Harvest, EMI</label>\n",
    "</album>\n",
    "\"\"\""
   ]
  },
  {
   "cell_type": "code",
   "execution_count": null,
   "metadata": {},
   "outputs": [],
   "source": []
  }
 ],
 "metadata": {
  "kernelspec": {
   "display_name": "Python 3",
   "language": "python",
   "name": "python3"
  },
  "language_info": {
   "codemirror_mode": {
    "name": "ipython",
    "version": 3
   },
   "file_extension": ".py",
   "mimetype": "text/x-python",
   "name": "python",
   "nbconvert_exporter": "python",
   "pygments_lexer": "ipython3",
   "version": "3.6.4"
  }
 },
 "nbformat": 4,
 "nbformat_minor": 2
}
